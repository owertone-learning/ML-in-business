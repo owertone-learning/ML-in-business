{
 "cells": [
  {
   "cell_type": "markdown",
   "id": "9cec6f40",
   "metadata": {},
   "source": [
    "# Homework №8"
   ]
  },
  {
   "cell_type": "markdown",
   "id": "bb608edc",
   "metadata": {},
   "source": [
    "Взять датасет из google диска: https://drive.google.com/file/d/1MpWBFIbqu4mbiD0BBKYX6YhS-f4mN3Z_. Проверить гипотезу о том, в каком варианте теста (control/personalization) больше конверсия (converted) и значимо ли это отличие статистически."
   ]
  },
  {
   "cell_type": "code",
   "execution_count": 25,
   "id": "0fbc6ef3",
   "metadata": {},
   "outputs": [],
   "source": [
    "import pandas as pd\n",
    "import numpy as np\n",
    "from sklearn.pipeline import Pipeline, make_pipeline\n",
    "from sklearn.base import BaseEstimator, TransformerMixin\n",
    "from sklearn.linear_model import LogisticRegression\n",
    "from sklearn.model_selection import train_test_split\n",
    "from sklearn.preprocessing import StandardScaler\n",
    "\n",
    "from sklearn.ensemble import RandomForestClassifier\n",
    "from sklearn.feature_selection import SelectFromModel\n",
    "from sklearn.metrics import f1_score, roc_auc_score, precision_score, classification_report, precision_recall_curve, confusion_matrix\n",
    "from scipy.stats import mannwhitneyu\n",
    "import itertools\n",
    "\n",
    "import matplotlib.pyplot as plt\n",
    "\n",
    "import seaborn as sns\n",
    "\n",
    "import warnings\n",
    "warnings.filterwarnings('ignore')"
   ]
  },
  {
   "cell_type": "code",
   "execution_count": 26,
   "id": "8a157520",
   "metadata": {},
   "outputs": [],
   "source": [
    "!wget 'https://drive.google.com/file/d/1MpWBFIbqu4mbiD0BBKYX6YhS-f4mN3Z_' -O ab_stats.csv"
   ]
  },
  {
   "cell_type": "code",
   "execution_count": 27,
   "id": "61fd3170",
   "metadata": {
    "scrolled": true
   },
   "outputs": [],
   "source": [
    "!unzip data.zip"
   ]
  },
  {
   "cell_type": "code",
   "execution_count": 58,
   "id": "748ecd3d",
   "metadata": {},
   "outputs": [
    {
     "data": {
      "text/html": [
       "<div>\n",
       "<style scoped>\n",
       "    .dataframe tbody tr th:only-of-type {\n",
       "        vertical-align: middle;\n",
       "    }\n",
       "\n",
       "    .dataframe tbody tr th {\n",
       "        vertical-align: top;\n",
       "    }\n",
       "\n",
       "    .dataframe thead th {\n",
       "        text-align: right;\n",
       "    }\n",
       "</style>\n",
       "<table border=\"1\" class=\"dataframe\">\n",
       "  <thead>\n",
       "    <tr style=\"text-align: right;\">\n",
       "      <th></th>\n",
       "      <th>user_id</th>\n",
       "      <th>date_served</th>\n",
       "      <th>marketing_channel</th>\n",
       "      <th>variant</th>\n",
       "      <th>language_displayed</th>\n",
       "      <th>converted</th>\n",
       "    </tr>\n",
       "  </thead>\n",
       "  <tbody>\n",
       "    <tr>\n",
       "      <th>0</th>\n",
       "      <td>a1000</td>\n",
       "      <td>1/1/18</td>\n",
       "      <td>House Ads</td>\n",
       "      <td>personalization</td>\n",
       "      <td>English</td>\n",
       "      <td>True</td>\n",
       "    </tr>\n",
       "    <tr>\n",
       "      <th>1</th>\n",
       "      <td>a1001</td>\n",
       "      <td>1/1/18</td>\n",
       "      <td>House Ads</td>\n",
       "      <td>personalization</td>\n",
       "      <td>English</td>\n",
       "      <td>True</td>\n",
       "    </tr>\n",
       "    <tr>\n",
       "      <th>2</th>\n",
       "      <td>a1002</td>\n",
       "      <td>1/1/18</td>\n",
       "      <td>House Ads</td>\n",
       "      <td>personalization</td>\n",
       "      <td>English</td>\n",
       "      <td>True</td>\n",
       "    </tr>\n",
       "    <tr>\n",
       "      <th>3</th>\n",
       "      <td>a1003</td>\n",
       "      <td>1/1/18</td>\n",
       "      <td>House Ads</td>\n",
       "      <td>personalization</td>\n",
       "      <td>English</td>\n",
       "      <td>True</td>\n",
       "    </tr>\n",
       "    <tr>\n",
       "      <th>4</th>\n",
       "      <td>a1004</td>\n",
       "      <td>1/1/18</td>\n",
       "      <td>House Ads</td>\n",
       "      <td>personalization</td>\n",
       "      <td>English</td>\n",
       "      <td>True</td>\n",
       "    </tr>\n",
       "    <tr>\n",
       "      <th>...</th>\n",
       "      <td>...</td>\n",
       "      <td>...</td>\n",
       "      <td>...</td>\n",
       "      <td>...</td>\n",
       "      <td>...</td>\n",
       "      <td>...</td>\n",
       "    </tr>\n",
       "    <tr>\n",
       "      <th>10032</th>\n",
       "      <td>a11032</td>\n",
       "      <td>1/17/18</td>\n",
       "      <td>Email</td>\n",
       "      <td>control</td>\n",
       "      <td>German</td>\n",
       "      <td>True</td>\n",
       "    </tr>\n",
       "    <tr>\n",
       "      <th>10033</th>\n",
       "      <td>a11033</td>\n",
       "      <td>1/17/18</td>\n",
       "      <td>Email</td>\n",
       "      <td>control</td>\n",
       "      <td>German</td>\n",
       "      <td>True</td>\n",
       "    </tr>\n",
       "    <tr>\n",
       "      <th>10034</th>\n",
       "      <td>a11034</td>\n",
       "      <td>1/5/18</td>\n",
       "      <td>Instagram</td>\n",
       "      <td>control</td>\n",
       "      <td>German</td>\n",
       "      <td>False</td>\n",
       "    </tr>\n",
       "    <tr>\n",
       "      <th>10035</th>\n",
       "      <td>a11035</td>\n",
       "      <td>1/17/18</td>\n",
       "      <td>Email</td>\n",
       "      <td>control</td>\n",
       "      <td>German</td>\n",
       "      <td>True</td>\n",
       "    </tr>\n",
       "    <tr>\n",
       "      <th>10036</th>\n",
       "      <td>a11036</td>\n",
       "      <td>1/6/18</td>\n",
       "      <td>Facebook</td>\n",
       "      <td>control</td>\n",
       "      <td>German</td>\n",
       "      <td>False</td>\n",
       "    </tr>\n",
       "  </tbody>\n",
       "</table>\n",
       "<p>10037 rows × 6 columns</p>\n",
       "</div>"
      ],
      "text/plain": [
       "      user_id date_served marketing_channel          variant  \\\n",
       "0       a1000      1/1/18         House Ads  personalization   \n",
       "1       a1001      1/1/18         House Ads  personalization   \n",
       "2       a1002      1/1/18         House Ads  personalization   \n",
       "3       a1003      1/1/18         House Ads  personalization   \n",
       "4       a1004      1/1/18         House Ads  personalization   \n",
       "...       ...         ...               ...              ...   \n",
       "10032  a11032     1/17/18             Email          control   \n",
       "10033  a11033     1/17/18             Email          control   \n",
       "10034  a11034      1/5/18         Instagram          control   \n",
       "10035  a11035     1/17/18             Email          control   \n",
       "10036  a11036      1/6/18          Facebook          control   \n",
       "\n",
       "      language_displayed converted  \n",
       "0                English      True  \n",
       "1                English      True  \n",
       "2                English      True  \n",
       "3                English      True  \n",
       "4                English      True  \n",
       "...                  ...       ...  \n",
       "10032             German      True  \n",
       "10033             German      True  \n",
       "10034             German     False  \n",
       "10035             German      True  \n",
       "10036             German     False  \n",
       "\n",
       "[10037 rows x 6 columns]"
      ]
     },
     "execution_count": 58,
     "metadata": {},
     "output_type": "execute_result"
    }
   ],
   "source": [
    "df = pd.read_csv('marketing_campaign.csv')\n",
    "df"
   ]
  },
  {
   "cell_type": "code",
   "execution_count": 59,
   "id": "70242f14",
   "metadata": {},
   "outputs": [
    {
     "data": {
      "text/plain": [
       "control            5091\n",
       "personalization    4946\n",
       "Name: variant, dtype: int64"
      ]
     },
     "execution_count": 59,
     "metadata": {},
     "output_type": "execute_result"
    }
   ],
   "source": [
    "df.variant.value_counts()"
   ]
  },
  {
   "cell_type": "code",
   "execution_count": 60,
   "id": "1261c75b",
   "metadata": {},
   "outputs": [
    {
     "data": {
      "text/plain": [
       "False    8946\n",
       "True     1076\n",
       "Name: converted, dtype: int64"
      ]
     },
     "execution_count": 60,
     "metadata": {},
     "output_type": "execute_result"
    }
   ],
   "source": [
    "df.converted.value_counts()"
   ]
  },
  {
   "cell_type": "code",
   "execution_count": 88,
   "id": "2d8ce2e6",
   "metadata": {},
   "outputs": [],
   "source": [
    "df['converted'] = df['converted'].fillna(0)"
   ]
  },
  {
   "cell_type": "code",
   "execution_count": 89,
   "id": "9cc34f41",
   "metadata": {},
   "outputs": [],
   "source": [
    "df['converted'] = df['converted'].astype(int)"
   ]
  },
  {
   "cell_type": "code",
   "execution_count": 90,
   "id": "d24e2907",
   "metadata": {},
   "outputs": [
    {
     "data": {
      "text/plain": [
       "user_id               object\n",
       "date_served           object\n",
       "marketing_channel     object\n",
       "variant               object\n",
       "language_displayed    object\n",
       "converted              int64\n",
       "dtype: object"
      ]
     },
     "execution_count": 90,
     "metadata": {},
     "output_type": "execute_result"
    }
   ],
   "source": [
    "df.dtypes"
   ]
  },
  {
   "cell_type": "code",
   "execution_count": 100,
   "id": "56f54cc2",
   "metadata": {},
   "outputs": [
    {
     "name": "stdout",
     "output_type": "stream",
     "text": [
      "Конверсия в контрольной группе не имеет нормального распределения.\n",
      "Конверсия в персонализированной группе не имеет нормального распределения.\n"
     ]
    }
   ],
   "source": [
    "from scipy.stats import shapiro\n",
    "\n",
    "# проверка на нормальность распределения конверсии для каждой группы\n",
    "control_normal = shapiro(control['converted'])[1] > 0.05\n",
    "personalization_normal = shapiro(personalization['converted'])[1] > 0.05\n",
    "# результаты\n",
    "if control_normal:\n",
    "    print('Конверсия в контрольной группе имеет нормальное распределение.')\n",
    "else:\n",
    "    print('Конверсия в контрольной группе не имеет нормального распределения.')\n",
    "\n",
    "if personalization_normal:\n",
    "    print('Конверсия в персонализированной группе имеет нормальное распределение.')\n",
    "else:\n",
    "    print('Конверсия в персонализированной группе не имеет нормального распределения.')\n"
   ]
  },
  {
   "cell_type": "code",
   "execution_count": 92,
   "id": "e210df02",
   "metadata": {},
   "outputs": [
    {
     "name": "stdout",
     "output_type": "stream",
     "text": [
      "stat: -11.34989621081538\n",
      "p_value: 1.1258596007039894e-29\n",
      "Различие между конверсиями в контрольной и персонализированной группах статистически значимо.\n"
     ]
    }
   ],
   "source": [
    "from scipy.stats import ttest_ind\n",
    "\n",
    "# делим данные на контрольную и персонализированную группы\n",
    "control = df[df['variant'] == 'control']\n",
    "personalization = df[df['variant'] == 'personalization']\n",
    "\n",
    "# выполнить t-тест\n",
    "stat, p_value = ttest_ind(control['converted'], personalization['converted'])\n",
    "print(f'stat: {stat}')\n",
    "print(f'p_value: {p_value}')\n",
    "\n",
    "# результаты\n",
    "if p_value < 0.05:\n",
    "    print('Различие между конверсиями в контрольной и персонализированной группах статистически значимо.')\n",
    "else:\n",
    "    print('Различие между конверсиями в контрольной и персонализированной группах не является статистически значимым.')\n"
   ]
  },
  {
   "cell_type": "code",
   "execution_count": 104,
   "id": "af2c1fa9",
   "metadata": {},
   "outputs": [
    {
     "name": "stdout",
     "output_type": "stream",
     "text": [
      "p_value: 1.2552109233470097e-29\n",
      "Различие между конверсиями в контрольной и персонализированной группах статистически значимо.\n"
     ]
    }
   ],
   "source": [
    "from scipy.stats import norm\n",
    "\n",
    "control = df[df['variant'] == 'control']\n",
    "personalization = df[df['variant'] == 'personalization']\n",
    "\n",
    "conv_control = control['converted'].mean()\n",
    "conv_personalization = personalization['converted'].mean()\n",
    "\n",
    "se = np.sqrt((conv_control*(1-conv_control))/len(control) + (conv_personalization*(1-conv_personalization))/len(personalization))\n",
    "\n",
    "z = (conv_personalization - conv_control) / se\n",
    "\n",
    "p_value = norm.sf(abs(z))*2\n",
    "print(f'p_value: {p_value}')\n",
    "\n",
    "# результаты\n",
    "if p_value < 0.05:\n",
    "    print('Различие между конверсиями в контрольной и персонализированной группах статистически значимо.')\n",
    "else:\n",
    "    print('Различие между конверсиями в контрольной и персонализированной группах не является статистически значимым.')\n"
   ]
  },
  {
   "cell_type": "code",
   "execution_count": 105,
   "id": "d3726cbc",
   "metadata": {},
   "outputs": [
    {
     "name": "stdout",
     "output_type": "stream",
     "text": [
      "stat: 11712948.5\n",
      "np_value: 1.6796821750456274e-29\n",
      "Различие между конверсиями в контрольной и персонализированной группах статистически значимо.\n"
     ]
    }
   ],
   "source": [
    "from scipy.stats import mannwhitneyu\n",
    "\n",
    "# разделим данные на контрольную и персонализированную группы\n",
    "control = df[df['variant'] == 'control']\n",
    "personalization = df[df['variant'] == 'personalization']\n",
    "\n",
    "# выполним тест Манна-Уитни\n",
    "stat, p_value = mannwhitneyu(control['converted'], personalization['converted'])\n",
    "print(f'stat: {stat}')\n",
    "print(f'np_value: {p_value}')\n",
    "# результаты\n",
    "if p_value < 0.05:\n",
    "    print('Различие между конверсиями в контрольной и персонализированной группах статистически значимо.')\n",
    "else:\n",
    "    print('Различие между конверсиями в контрольной и персонализированной группах не является статистически значимым.')\n"
   ]
  },
  {
   "cell_type": "code",
   "execution_count": 103,
   "id": "0d9254ff",
   "metadata": {},
   "outputs": [
    {
     "data": {
      "text/plain": [
       "<AxesSubplot:xlabel='converted', ylabel='Density'>"
      ]
     },
     "execution_count": 103,
     "metadata": {},
     "output_type": "execute_result"
    },
    {
     "data": {
      "image/png": "[encoded data removed]",
      "text/plain": [
       "<Figure size 1000x500 with 1 Axes>"
      ]
     },
     "metadata": {},
     "output_type": "display_data"
    }
   ],
   "source": [
    "plt.figure(figsize=(10, 5))\n",
    "sns.kdeplot(control['converted'], label='control')\n",
    "sns.kdeplot(personalization['converted'], label='personalization')\n"
   ]
  },
  {
   "cell_type": "code",
   "execution_count": null,
   "id": "655935da",
   "metadata": {},
   "outputs": [],
   "source": []
  }
 ],
 "metadata": {
  "kernelspec": {
   "display_name": "Python 3 (ipykernel)",
   "language": "python",
   "name": "python3"
  },
  "language_info": {
   "codemirror_mode": {
    "name": "ipython",
    "version": 3
   },
   "file_extension": ".py",
   "mimetype": "text/x-python",
   "name": "python",
   "nbconvert_exporter": "python",
   "pygments_lexer": "ipython3",
   "version": "3.9.13"
  }
 },
 "nbformat": 4,
 "nbformat_minor": 5
}
