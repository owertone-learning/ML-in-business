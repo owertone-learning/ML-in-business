{
 "cells": [
  {
   "cell_type": "code",
   "execution_count": 294,
   "id": "3d245d85",
   "metadata": {},
   "outputs": [],
   "source": [
    "import pandas as pd\n",
    "from sklearn.linear_model import LogisticRegression\n",
    "from sklearn.model_selection import train_test_split\n",
    "import itertools\n",
    "from sklearn.feature_extraction.text import TfidfVectorizer\n",
    "from sklearn.metrics import f1_score, roc_auc_score, precision_score, classification_report, precision_recall_curve, confusion_matrix"
   ]
  },
  {
   "cell_type": "code",
   "execution_count": 295,
   "id": "f6a2dbec",
   "metadata": {},
   "outputs": [
    {
     "name": "stdout",
     "output_type": "stream",
     "text": [
      "(27000, 2)\n"
     ]
    },
    {
     "data": {
      "text/html": [
       "<div>\n",
       "<style scoped>\n",
       "    .dataframe tbody tr th:only-of-type {\n",
       "        vertical-align: middle;\n",
       "    }\n",
       "\n",
       "    .dataframe tbody tr th {\n",
       "        vertical-align: top;\n",
       "    }\n",
       "\n",
       "    .dataframe thead th {\n",
       "        text-align: right;\n",
       "    }\n",
       "</style>\n",
       "<table border=\"1\" class=\"dataframe\">\n",
       "  <thead>\n",
       "    <tr style=\"text-align: right;\">\n",
       "      <th></th>\n",
       "      <th>doc_id</th>\n",
       "      <th>title</th>\n",
       "    </tr>\n",
       "  </thead>\n",
       "  <tbody>\n",
       "    <tr>\n",
       "      <th>0</th>\n",
       "      <td>6</td>\n",
       "      <td>Заместитель председателяnправительства РФnСерг...</td>\n",
       "    </tr>\n",
       "    <tr>\n",
       "      <th>1</th>\n",
       "      <td>4896</td>\n",
       "      <td>Матч 1/16 финала Кубка России по футболу был п...</td>\n",
       "    </tr>\n",
       "    <tr>\n",
       "      <th>2</th>\n",
       "      <td>4897</td>\n",
       "      <td>Форвард «Авангарда» Томаш Заборский прокоммент...</td>\n",
       "    </tr>\n",
       "  </tbody>\n",
       "</table>\n",
       "</div>"
      ],
      "text/plain": [
       "   doc_id                                              title\n",
       "0       6  Заместитель председателяnправительства РФnСерг...\n",
       "1    4896  Матч 1/16 финала Кубка России по футболу был п...\n",
       "2    4897  Форвард «Авангарда» Томаш Заборский прокоммент..."
      ]
     },
     "execution_count": 295,
     "metadata": {},
     "output_type": "execute_result"
    }
   ],
   "source": [
    "news = pd.read_csv(\"./Lection2/materials.csv\")\n",
    "print(news.shape)\n",
    "news.head(3)"
   ]
  },
  {
   "cell_type": "code",
   "execution_count": 296,
   "id": "3d1bf2dd",
   "metadata": {},
   "outputs": [
    {
     "data": {
      "text/html": [
       "<div>\n",
       "<style scoped>\n",
       "    .dataframe tbody tr th:only-of-type {\n",
       "        vertical-align: middle;\n",
       "    }\n",
       "\n",
       "    .dataframe tbody tr th {\n",
       "        vertical-align: top;\n",
       "    }\n",
       "\n",
       "    .dataframe thead th {\n",
       "        text-align: right;\n",
       "    }\n",
       "</style>\n",
       "<table border=\"1\" class=\"dataframe\">\n",
       "  <thead>\n",
       "    <tr style=\"text-align: right;\">\n",
       "      <th></th>\n",
       "      <th>uid</th>\n",
       "      <th>articles</th>\n",
       "    </tr>\n",
       "  </thead>\n",
       "  <tbody>\n",
       "    <tr>\n",
       "      <th>0</th>\n",
       "      <td>u105138</td>\n",
       "      <td>[293672, 293328, 293001, 293622, 293126, 1852]</td>\n",
       "    </tr>\n",
       "    <tr>\n",
       "      <th>1</th>\n",
       "      <td>u108690</td>\n",
       "      <td>[3405, 1739, 2972, 1158, 1599, 322665]</td>\n",
       "    </tr>\n",
       "    <tr>\n",
       "      <th>2</th>\n",
       "      <td>u108339</td>\n",
       "      <td>[1845, 2009, 2356, 1424, 2939, 323389]</td>\n",
       "    </tr>\n",
       "  </tbody>\n",
       "</table>\n",
       "</div>"
      ],
      "text/plain": [
       "       uid                                        articles\n",
       "0  u105138  [293672, 293328, 293001, 293622, 293126, 1852]\n",
       "1  u108690          [3405, 1739, 2972, 1158, 1599, 322665]\n",
       "2  u108339          [1845, 2009, 2356, 1424, 2939, 323389]"
      ]
     },
     "execution_count": 296,
     "metadata": {},
     "output_type": "execute_result"
    }
   ],
   "source": [
    "users = pd.read_csv(\"./Lection2/users_articles.csv\")\n",
    "users.head(3)"
   ]
  },
  {
   "cell_type": "code",
   "execution_count": 297,
   "id": "91904af8",
   "metadata": {},
   "outputs": [],
   "source": [
    "#from gensim.test.utils import common_texts\n",
    "from gensim.corpora.dictionary import Dictionary"
   ]
  },
  {
   "cell_type": "code",
   "execution_count": 298,
   "id": "6aa98dd6",
   "metadata": {},
   "outputs": [],
   "source": [
    "#предобработка текстов\n",
    "import re\n",
    "import numpy as np\n",
    "from nltk.corpus import stopwords\n",
    "#from nltk.tokenize import word_tokenize\n",
    "\n",
    "from razdel import tokenize # https://github.com/natasha/razdel\n",
    "#!pip install razdel\n",
    "\n",
    "import pymorphy2  # pip install pymorphy2"
   ]
  },
  {
   "cell_type": "code",
   "execution_count": 299,
   "id": "25a9338e",
   "metadata": {},
   "outputs": [],
   "source": [
    "stopword_ru = stopwords.words('russian')\n",
    "len(stopword_ru)\n",
    "\n",
    "morph = pymorphy2.MorphAnalyzer()"
   ]
  },
  {
   "cell_type": "code",
   "execution_count": 300,
   "id": "1a0d9ccc",
   "metadata": {},
   "outputs": [
    {
     "data": {
      "text/plain": [
       "776"
      ]
     },
     "execution_count": 300,
     "metadata": {},
     "output_type": "execute_result"
    }
   ],
   "source": [
    "with open('./Lection2/stopwords.txt') as f:\n",
    "    additional_stopwords = [w.strip() for w in f.readlines() if w]\n",
    "stopword_ru += additional_stopwords\n",
    "len(stopword_ru)"
   ]
  },
  {
   "cell_type": "code",
   "execution_count": 301,
   "id": "2f3061fc",
   "metadata": {},
   "outputs": [],
   "source": [
    "def clean_text(text):\n",
    "    '''\n",
    "    очистка текста\n",
    "    \n",
    "    на выходе очищеный текст\n",
    "    \n",
    "    '''\n",
    "    if not isinstance(text, str):\n",
    "        text = str(text)\n",
    "    \n",
    "    text = text.lower()\n",
    "    text = text.strip('\\n').strip('\\r').strip('\\t')\n",
    "    text = re.sub(\"-\\s\\r\\n\\|-\\s\\r\\n|\\r\\n\", '', str(text))\n",
    "\n",
    "    text = re.sub(\"[0-9]|[-—.,:;_%©«»?*!@#№$^•·&()]|[+=]|[[]|[]]|[/]|\", '', text)\n",
    "    text = re.sub(r\"\\r\\n\\t|\\n|\\\\s|\\r\\t|\\\\n\", ' ', text)\n",
    "    text = re.sub(r'[\\xad]|[\\s+]', ' ', text.strip())\n",
    "    \n",
    "    #tokens = list(tokenize(text))\n",
    "    #words = [_.text for _ in tokens]\n",
    "    #words = [w for w in words if w not in stopword_ru]\n",
    "    \n",
    "    #return \" \".join(words)\n",
    "    return text\n",
    "\n",
    "cache = {}\n",
    "\n",
    "def lemmatization(text):\n",
    "    '''\n",
    "    лемматизация\n",
    "        [0] если зашел тип не `str` делаем его `str`\n",
    "        [1] токенизация предложения через razdel\n",
    "        [2] проверка есть ли в начале слова '-'\n",
    "        [3] проверка токена с одного символа\n",
    "        [4] проверка есть ли данное слово в кэше\n",
    "        [5] лемматизация слова\n",
    "        [6] проверка на стоп-слова\n",
    "\n",
    "    на выходе лист отлемматизированых токенов\n",
    "    '''\n",
    "\n",
    "    # [0]\n",
    "    if not isinstance(text, str):\n",
    "        text = str(text)\n",
    "    \n",
    "    # [1]\n",
    "    tokens = list(tokenize(text))\n",
    "    words = [_.text for _ in tokens]\n",
    "\n",
    "    words_lem = []\n",
    "    for w in words:\n",
    "        if w[0] == '-': # [2]\n",
    "            w = w[1:]\n",
    "        if len(w)>1: # [3]\n",
    "            if w in cache: # [4]\n",
    "                words_lem.append(cache[w])\n",
    "            else: # [5]\n",
    "                temp_cach = cache[w] = morph.parse(w)[0].normal_form\n",
    "                words_lem.append(temp_cach)\n",
    "    \n",
    "    words_lem_without_stopwords=[i for i in words_lem if not i in stopword_ru] # [6]\n",
    "    \n",
    "    return words_lem_without_stopwords"
   ]
  },
  {
   "cell_type": "code",
   "execution_count": 302,
   "id": "6f0910ed",
   "metadata": {},
   "outputs": [
    {
     "name": "stdout",
     "output_type": "stream",
     "text": [
      "CPU times: user 19.2 s, sys: 185 ms, total: 19.4 s\n",
      "Wall time: 19.4 s\n"
     ]
    }
   ],
   "source": [
    "%%time\n",
    "#Запускаем очистку текста. Будет долго...\n",
    "news['title'] = news['title'].apply(lambda x: clean_text(x), 1)"
   ]
  },
  {
   "cell_type": "code",
   "execution_count": 303,
   "id": "f4229855",
   "metadata": {},
   "outputs": [
    {
     "name": "stdout",
     "output_type": "stream",
     "text": [
      "CPU times: user 2min 30s, sys: 1.38 s, total: 2min 31s\n",
      "Wall time: 2min 32s\n"
     ]
    }
   ],
   "source": [
    "%%time\n",
    "#Запускаем лемматизацию текста. Будет очень долго...\n",
    "news['title'] = news['title'].apply(lambda x: lemmatization(x), 1)"
   ]
  },
  {
   "cell_type": "code",
   "execution_count": 304,
   "id": "00e976cc",
   "metadata": {},
   "outputs": [],
   "source": [
    "#сформируем список наших текстов, разбив еще и на пробелы\n",
    "texts = [t for t in news['title'].values]\n",
    "\n",
    "# Create a corpus from a list of texts\n",
    "common_dictionary = Dictionary(texts)\n",
    "common_corpus = [common_dictionary.doc2bow(text) for text in texts]"
   ]
  },
  {
   "cell_type": "code",
   "execution_count": 305,
   "id": "1d1d0505",
   "metadata": {},
   "outputs": [
    {
     "data": {
      "text/plain": [
       "'ватутин'"
      ]
     },
     "execution_count": 305,
     "metadata": {},
     "output_type": "execute_result"
    }
   ],
   "source": [
    "common_dictionary[10]"
   ]
  },
  {
   "cell_type": "code",
   "execution_count": 306,
   "id": "a0e00b71",
   "metadata": {},
   "outputs": [],
   "source": [
    "from gensim.models import LdaModel\n",
    "# Train the model on the corpus.\n",
    "lda = LdaModel(common_corpus, num_topics=25, id2word=common_dictionary)#, passes=10)"
   ]
  },
  {
   "cell_type": "code",
   "execution_count": 307,
   "id": "9d3947ee",
   "metadata": {},
   "outputs": [],
   "source": [
    "from gensim.test.utils import datapath\n",
    "# Save model to disk.\n",
    "temp_file = datapath(\"model.lda\")\n",
    "lda.save(temp_file)\n",
    "\n",
    "# Load a potentially pretrained model from disk.\n",
    "lda = LdaModel.load(temp_file)"
   ]
  },
  {
   "cell_type": "code",
   "execution_count": 308,
   "id": "5148b796",
   "metadata": {},
   "outputs": [
    {
     "name": "stdout",
     "output_type": "stream",
     "text": [
      "['форвард', 'авангард', 'томаш', 'заборский', 'прокомментировать', 'игра', 'команда', 'матч', 'чемпионат', 'кхл', 'против', 'атланта', 'nnnn', 'плохой', 'матч', 'нижний', 'новгород', 'против', 'торпедо', 'настраиваться', 'первый', 'минута', 'включиться', 'заборский', 'получиться', 'забросить', 'быстрый', 'гол', 'задать', 'хороший', 'темп', 'поединок', 'играть', 'хороший', 'сторона', 'пять', 'очко', 'выезд', 'девять', 'хороший']\n"
     ]
    },
    {
     "data": {
      "text/plain": [
       "[(1, 0.12776233), (5, 0.35176405), (16, 0.1105626), (17, 0.38757)]"
      ]
     },
     "execution_count": 308,
     "metadata": {},
     "output_type": "execute_result"
    }
   ],
   "source": [
    "# Create a new corpus, made of previously unseen documents.\n",
    "other_texts = [t for t in news['title'].iloc[:3]]\n",
    "other_corpus = [common_dictionary.doc2bow(text) for text in other_texts]\n",
    "\n",
    "unseen_doc = other_corpus[2]\n",
    "print(other_texts[2])\n",
    "lda[unseen_doc] "
   ]
  },
  {
   "cell_type": "code",
   "execution_count": 309,
   "id": "b184b6a0",
   "metadata": {},
   "outputs": [
    {
     "name": "stdout",
     "output_type": "stream",
     "text": [
      "topic_0: млрд бюджет писать министерство расход учреждение инвестиция\n",
      "topic_1: новый банк газ система часть россия территория\n",
      "topic_2: британский великобритания лондон противник спасти nn подсчитать\n",
      "topic_3: исследование рост тыс млн составить вырасти показатель\n",
      "topic_4: доллар памятник выдавать сближение давность стол оплачивать\n",
      "topic_5: солнце свидетель виза почва хороший испания пляж\n",
      "topic_6: район эксперимент сотрудник статья задержать чиновник граница\n",
      "topic_7: журнал фотография кровь прогнозировать характерный этаж нос\n",
      "topic_8: проект квартира дональд строительство дыра место рейтинг\n",
      "topic_9: фонд nn журнал статья писать рак первый\n",
      "topic_10: nn москва область украина век улица московский\n",
      "topic_11: мотив гарантия прибытие олимпийский шутка горка собирать\n",
      "topic_12: россия сша российский ракета военный nn американский\n",
      "topic_13: земля применение след ii пространство снг анализ\n",
      "topic_14: россия газета российский nn опубликовать источник ru\n",
      "topic_15: цена эксперт млн рынок технология ставка планета\n",
      "topic_16: научный обнаружить произойти исследование женщина причина смерть\n",
      "topic_17: всё очень первый большой день например риск\n",
      "topic_18: поверхность парк концепция зуб вниз визовый шведский\n",
      "topic_19: погибнуть восток продолжительность бомба образовать осложнение дневный\n",
      "topic_20: взрыв операция температура район пострадать градус достигать\n",
      "topic_21: россия рубль ребёнок российский вопрос решение население\n",
      "topic_22: тело убийство депутат сотрудник преступление следователь орган\n",
      "topic_23: украина гражданин украинский проверка народный фронт киев\n",
      "topic_24: запуск товар космос запустить испытание сектор ресурс\n"
     ]
    }
   ],
   "source": [
    "x=lda.show_topics(num_topics=25, num_words=7,formatted=False)\n",
    "topics_words = [(tp[0], [wd[0] for wd in tp[1]]) for tp in x]\n",
    "\n",
    "#Below Code Prints Only Words \n",
    "for topic,words in topics_words:\n",
    "    print(\"topic_{}: \".format(topic)+\" \".join(words))"
   ]
  },
  {
   "cell_type": "code",
   "execution_count": 310,
   "id": "42e08347",
   "metadata": {},
   "outputs": [],
   "source": [
    "#text = news['title'].iloc[0]\n",
    "\n",
    "def get_lda_vector(text):\n",
    "    unseen_doc = common_dictionary.doc2bow(text)\n",
    "    lda_tuple = lda[unseen_doc]\n",
    "    not_null_topics = dict(zip([i[0] for i in lda_tuple], [i[1] for i in lda_tuple]))\n",
    "\n",
    "    output_vector = []\n",
    "    for i in range(25):\n",
    "        if i not in not_null_topics:\n",
    "            output_vector.append(0)\n",
    "        else:\n",
    "            output_vector.append(not_null_topics[i])\n",
    "    return np.array(output_vector)"
   ]
  },
  {
   "cell_type": "code",
   "execution_count": 311,
   "id": "1855b717",
   "metadata": {},
   "outputs": [
    {
     "data": {
      "text/html": [
       "<div>\n",
       "<style scoped>\n",
       "    .dataframe tbody tr th:only-of-type {\n",
       "        vertical-align: middle;\n",
       "    }\n",
       "\n",
       "    .dataframe tbody tr th {\n",
       "        vertical-align: top;\n",
       "    }\n",
       "\n",
       "    .dataframe thead th {\n",
       "        text-align: right;\n",
       "    }\n",
       "</style>\n",
       "<table border=\"1\" class=\"dataframe\">\n",
       "  <thead>\n",
       "    <tr style=\"text-align: right;\">\n",
       "      <th></th>\n",
       "      <th>doc_id</th>\n",
       "      <th>topic_0</th>\n",
       "      <th>topic_1</th>\n",
       "      <th>topic_2</th>\n",
       "      <th>topic_3</th>\n",
       "      <th>topic_4</th>\n",
       "      <th>topic_5</th>\n",
       "      <th>topic_6</th>\n",
       "      <th>topic_7</th>\n",
       "      <th>topic_8</th>\n",
       "      <th>...</th>\n",
       "      <th>topic_15</th>\n",
       "      <th>topic_16</th>\n",
       "      <th>topic_17</th>\n",
       "      <th>topic_18</th>\n",
       "      <th>topic_19</th>\n",
       "      <th>topic_20</th>\n",
       "      <th>topic_21</th>\n",
       "      <th>topic_22</th>\n",
       "      <th>topic_23</th>\n",
       "      <th>topic_24</th>\n",
       "    </tr>\n",
       "  </thead>\n",
       "  <tbody>\n",
       "    <tr>\n",
       "      <th>0</th>\n",
       "      <td>6</td>\n",
       "      <td>0.0</td>\n",
       "      <td>0.892146</td>\n",
       "      <td>0.0</td>\n",
       "      <td>0.0</td>\n",
       "      <td>0.0</td>\n",
       "      <td>0.060988</td>\n",
       "      <td>0.000000</td>\n",
       "      <td>0.0</td>\n",
       "      <td>0.000000</td>\n",
       "      <td>...</td>\n",
       "      <td>0.0</td>\n",
       "      <td>0.0</td>\n",
       "      <td>0.000000</td>\n",
       "      <td>0.0</td>\n",
       "      <td>0.000000</td>\n",
       "      <td>0.000000</td>\n",
       "      <td>0.000000</td>\n",
       "      <td>0.000000</td>\n",
       "      <td>0.000000</td>\n",
       "      <td>0.000000</td>\n",
       "    </tr>\n",
       "    <tr>\n",
       "      <th>1</th>\n",
       "      <td>4896</td>\n",
       "      <td>0.0</td>\n",
       "      <td>0.000000</td>\n",
       "      <td>0.0</td>\n",
       "      <td>0.0</td>\n",
       "      <td>0.0</td>\n",
       "      <td>0.214279</td>\n",
       "      <td>0.000000</td>\n",
       "      <td>0.0</td>\n",
       "      <td>0.000000</td>\n",
       "      <td>...</td>\n",
       "      <td>0.0</td>\n",
       "      <td>0.0</td>\n",
       "      <td>0.000000</td>\n",
       "      <td>0.0</td>\n",
       "      <td>0.000000</td>\n",
       "      <td>0.713997</td>\n",
       "      <td>0.000000</td>\n",
       "      <td>0.048562</td>\n",
       "      <td>0.000000</td>\n",
       "      <td>0.000000</td>\n",
       "    </tr>\n",
       "    <tr>\n",
       "      <th>2</th>\n",
       "      <td>4897</td>\n",
       "      <td>0.0</td>\n",
       "      <td>0.101796</td>\n",
       "      <td>0.0</td>\n",
       "      <td>0.0</td>\n",
       "      <td>0.0</td>\n",
       "      <td>0.344929</td>\n",
       "      <td>0.000000</td>\n",
       "      <td>0.0</td>\n",
       "      <td>0.000000</td>\n",
       "      <td>...</td>\n",
       "      <td>0.0</td>\n",
       "      <td>0.0</td>\n",
       "      <td>0.424339</td>\n",
       "      <td>0.0</td>\n",
       "      <td>0.000000</td>\n",
       "      <td>0.000000</td>\n",
       "      <td>0.000000</td>\n",
       "      <td>0.000000</td>\n",
       "      <td>0.000000</td>\n",
       "      <td>0.068976</td>\n",
       "    </tr>\n",
       "    <tr>\n",
       "      <th>3</th>\n",
       "      <td>4898</td>\n",
       "      <td>0.0</td>\n",
       "      <td>0.091485</td>\n",
       "      <td>0.0</td>\n",
       "      <td>0.0</td>\n",
       "      <td>0.0</td>\n",
       "      <td>0.104541</td>\n",
       "      <td>0.033057</td>\n",
       "      <td>0.0</td>\n",
       "      <td>0.098348</td>\n",
       "      <td>...</td>\n",
       "      <td>0.0</td>\n",
       "      <td>0.0</td>\n",
       "      <td>0.476947</td>\n",
       "      <td>0.0</td>\n",
       "      <td>0.000000</td>\n",
       "      <td>0.000000</td>\n",
       "      <td>0.090958</td>\n",
       "      <td>0.000000</td>\n",
       "      <td>0.095385</td>\n",
       "      <td>0.000000</td>\n",
       "    </tr>\n",
       "    <tr>\n",
       "      <th>4</th>\n",
       "      <td>4899</td>\n",
       "      <td>0.0</td>\n",
       "      <td>0.790703</td>\n",
       "      <td>0.0</td>\n",
       "      <td>0.0</td>\n",
       "      <td>0.0</td>\n",
       "      <td>0.113873</td>\n",
       "      <td>0.000000</td>\n",
       "      <td>0.0</td>\n",
       "      <td>0.000000</td>\n",
       "      <td>...</td>\n",
       "      <td>0.0</td>\n",
       "      <td>0.0</td>\n",
       "      <td>0.000000</td>\n",
       "      <td>0.0</td>\n",
       "      <td>0.032687</td>\n",
       "      <td>0.000000</td>\n",
       "      <td>0.000000</td>\n",
       "      <td>0.000000</td>\n",
       "      <td>0.000000</td>\n",
       "      <td>0.000000</td>\n",
       "    </tr>\n",
       "  </tbody>\n",
       "</table>\n",
       "<p>5 rows × 26 columns</p>\n",
       "</div>"
      ],
      "text/plain": [
       "   doc_id  topic_0   topic_1  topic_2  topic_3  topic_4   topic_5   topic_6  \\\n",
       "0       6      0.0  0.892146      0.0      0.0      0.0  0.060988  0.000000   \n",
       "1    4896      0.0  0.000000      0.0      0.0      0.0  0.214279  0.000000   \n",
       "2    4897      0.0  0.101796      0.0      0.0      0.0  0.344929  0.000000   \n",
       "3    4898      0.0  0.091485      0.0      0.0      0.0  0.104541  0.033057   \n",
       "4    4899      0.0  0.790703      0.0      0.0      0.0  0.113873  0.000000   \n",
       "\n",
       "   topic_7   topic_8  ...  topic_15  topic_16  topic_17  topic_18  topic_19  \\\n",
       "0      0.0  0.000000  ...       0.0       0.0  0.000000       0.0  0.000000   \n",
       "1      0.0  0.000000  ...       0.0       0.0  0.000000       0.0  0.000000   \n",
       "2      0.0  0.000000  ...       0.0       0.0  0.424339       0.0  0.000000   \n",
       "3      0.0  0.098348  ...       0.0       0.0  0.476947       0.0  0.000000   \n",
       "4      0.0  0.000000  ...       0.0       0.0  0.000000       0.0  0.032687   \n",
       "\n",
       "   topic_20  topic_21  topic_22  topic_23  topic_24  \n",
       "0  0.000000  0.000000  0.000000  0.000000  0.000000  \n",
       "1  0.713997  0.000000  0.048562  0.000000  0.000000  \n",
       "2  0.000000  0.000000  0.000000  0.000000  0.068976  \n",
       "3  0.000000  0.090958  0.000000  0.095385  0.000000  \n",
       "4  0.000000  0.000000  0.000000  0.000000  0.000000  \n",
       "\n",
       "[5 rows x 26 columns]"
      ]
     },
     "execution_count": 311,
     "metadata": {},
     "output_type": "execute_result"
    }
   ],
   "source": [
    "topic_matrix = pd.DataFrame([get_lda_vector(text) for text in news['title'].values])\n",
    "topic_matrix.columns = ['topic_{}'.format(i) for i in range(25)]\n",
    "topic_matrix['doc_id'] = news['doc_id'].values\n",
    "topic_matrix = topic_matrix[['doc_id']+['topic_{}'.format(i) for i in range(25)]]\n",
    "topic_matrix.head(5)"
   ]
  },
  {
   "cell_type": "code",
   "execution_count": 312,
   "id": "c2b7f939",
   "metadata": {},
   "outputs": [
    {
     "data": {
      "text/html": [
       "<div>\n",
       "<style scoped>\n",
       "    .dataframe tbody tr th:only-of-type {\n",
       "        vertical-align: middle;\n",
       "    }\n",
       "\n",
       "    .dataframe tbody tr th {\n",
       "        vertical-align: top;\n",
       "    }\n",
       "\n",
       "    .dataframe thead th {\n",
       "        text-align: right;\n",
       "    }\n",
       "</style>\n",
       "<table border=\"1\" class=\"dataframe\">\n",
       "  <thead>\n",
       "    <tr style=\"text-align: right;\">\n",
       "      <th></th>\n",
       "      <th>uid</th>\n",
       "      <th>articles</th>\n",
       "    </tr>\n",
       "  </thead>\n",
       "  <tbody>\n",
       "    <tr>\n",
       "      <th>0</th>\n",
       "      <td>u105138</td>\n",
       "      <td>[293672, 293328, 293001, 293622, 293126, 1852]</td>\n",
       "    </tr>\n",
       "    <tr>\n",
       "      <th>1</th>\n",
       "      <td>u108690</td>\n",
       "      <td>[3405, 1739, 2972, 1158, 1599, 322665]</td>\n",
       "    </tr>\n",
       "    <tr>\n",
       "      <th>2</th>\n",
       "      <td>u108339</td>\n",
       "      <td>[1845, 2009, 2356, 1424, 2939, 323389]</td>\n",
       "    </tr>\n",
       "  </tbody>\n",
       "</table>\n",
       "</div>"
      ],
      "text/plain": [
       "       uid                                        articles\n",
       "0  u105138  [293672, 293328, 293001, 293622, 293126, 1852]\n",
       "1  u108690          [3405, 1739, 2972, 1158, 1599, 322665]\n",
       "2  u108339          [1845, 2009, 2356, 1424, 2939, 323389]"
      ]
     },
     "execution_count": 312,
     "metadata": {},
     "output_type": "execute_result"
    }
   ],
   "source": [
    "users.head(3)"
   ]
  },
  {
   "cell_type": "code",
   "execution_count": 313,
   "id": "940499d3",
   "metadata": {},
   "outputs": [],
   "source": [
    "doc_dict = dict(zip(topic_matrix['doc_id'].values, topic_matrix[['topic_{}'.format(i) for i in range(25)]].values))"
   ]
  },
  {
   "cell_type": "code",
   "execution_count": 314,
   "id": "e4e560b3",
   "metadata": {},
   "outputs": [
    {
     "data": {
      "text/plain": [
       "array([0.        , 0.04917023, 0.11297118, 0.1299625 , 0.        ,\n",
       "       0.        , 0.        , 0.        , 0.        , 0.        ,\n",
       "       0.31980696, 0.03262204, 0.        , 0.        , 0.08744357,\n",
       "       0.        , 0.        , 0.        , 0.01782515, 0.        ,\n",
       "       0.02290731, 0.21643203, 0.        , 0.        , 0.        ])"
      ]
     },
     "execution_count": 314,
     "metadata": {},
     "output_type": "execute_result"
    }
   ],
   "source": [
    "doc_dict[293622]"
   ]
  },
  {
   "cell_type": "code",
   "execution_count": 315,
   "id": "a7792661",
   "metadata": {},
   "outputs": [],
   "source": [
    "# Создаем DataFrame с результатами\n",
    "results = pd.DataFrame()"
   ]
  },
  {
   "cell_type": "code",
   "execution_count": 316,
   "id": "50ffcfc7",
   "metadata": {},
   "outputs": [],
   "source": [
    "N_topic = 25"
   ]
  },
  {
   "cell_type": "code",
   "execution_count": 317,
   "id": "42adeedb",
   "metadata": {},
   "outputs": [],
   "source": [
    "# Список методов\n",
    "methods = ['mean', 'median', 'max', 'idf']"
   ]
  },
  {
   "cell_type": "code",
   "execution_count": 318,
   "id": "aff2bcae",
   "metadata": {},
   "outputs": [],
   "source": [
    "# Список метрик\n",
    "metrics = ['roc_auc', 'precision', 'recall', 'f_score']"
   ]
  },
  {
   "cell_type": "code",
   "execution_count": 319,
   "id": "48dc4a78",
   "metadata": {},
   "outputs": [
    {
     "data": {
      "text/html": [
       "<div>\n",
       "<style scoped>\n",
       "    .dataframe tbody tr th:only-of-type {\n",
       "        vertical-align: middle;\n",
       "    }\n",
       "\n",
       "    .dataframe tbody tr th {\n",
       "        vertical-align: top;\n",
       "    }\n",
       "\n",
       "    .dataframe thead th {\n",
       "        text-align: right;\n",
       "    }\n",
       "</style>\n",
       "<table border=\"1\" class=\"dataframe\">\n",
       "  <thead>\n",
       "    <tr style=\"text-align: right;\">\n",
       "      <th></th>\n",
       "      <th>uid</th>\n",
       "      <th>churn</th>\n",
       "    </tr>\n",
       "  </thead>\n",
       "  <tbody>\n",
       "    <tr>\n",
       "      <th>0</th>\n",
       "      <td>u107120</td>\n",
       "      <td>0</td>\n",
       "    </tr>\n",
       "    <tr>\n",
       "      <th>1</th>\n",
       "      <td>u102277</td>\n",
       "      <td>0</td>\n",
       "    </tr>\n",
       "    <tr>\n",
       "      <th>2</th>\n",
       "      <td>u102444</td>\n",
       "      <td>0</td>\n",
       "    </tr>\n",
       "  </tbody>\n",
       "</table>\n",
       "</div>"
      ],
      "text/plain": [
       "       uid  churn\n",
       "0  u107120      0\n",
       "1  u102277      0\n",
       "2  u102444      0"
      ]
     },
     "execution_count": 319,
     "metadata": {},
     "output_type": "execute_result"
    }
   ],
   "source": [
    "target = pd.read_csv(\"./Lection2/users_churn.csv\")\n",
    "target.head(3)"
   ]
  },
  {
   "cell_type": "code",
   "execution_count": 320,
   "id": "220799aa",
   "metadata": {},
   "outputs": [
    {
     "data": {
      "text/plain": [
       "'293672 293328 293001 293622 293126 1852'"
      ]
     },
     "execution_count": 320,
     "metadata": {},
     "output_type": "execute_result"
    }
   ],
   "source": [
    "users['articles_str'] = users['articles'].apply(lambda x: x.replace('[','').replace(']', '').replace(',', ''))\n",
    "\n",
    "users['articles_str'].iloc[0]"
   ]
  },
  {
   "cell_type": "code",
   "execution_count": 321,
   "id": "828ddf00",
   "metadata": {},
   "outputs": [
    {
     "data": {
      "text/plain": [
       "TfidfVectorizer()"
      ]
     },
     "execution_count": 321,
     "metadata": {},
     "output_type": "execute_result"
    }
   ],
   "source": [
    "tfidf = TfidfVectorizer()\n",
    "tfidf.fit(users['articles_str'])"
   ]
  },
  {
   "cell_type": "code",
   "execution_count": 322,
   "id": "19a7302d",
   "metadata": {},
   "outputs": [],
   "source": [
    "idf = pd.DataFrame({'article_id': tfidf.get_feature_names_out(),\n",
    "                    'idf': tfidf.idf_})"
   ]
  },
  {
   "cell_type": "code",
   "execution_count": 323,
   "id": "64a4f49a",
   "metadata": {},
   "outputs": [],
   "source": [
    "def get_user_embedding(user_articles_list, method, doc_dict=None, idf=None):\n",
    "    user_articles_list = eval(user_articles_list)\n",
    "    user_vector = np.array([doc_dict[doc_id] for doc_id in user_articles_list])\n",
    "\n",
    "    if method == 'mean':\n",
    "        user_vector = np.mean(user_vector, 0)\n",
    "    elif method == 'median':\n",
    "        user_vector = np.median(user_vector, 0)\n",
    "    elif method == 'max':\n",
    "        user_vector = np.max(user_vector, 0)\n",
    "    elif method == 'idf':\n",
    "        user_vector = np.zeros((len(user_articles_list), 25))\n",
    "        for i, doc_id in enumerate(user_articles_list):\n",
    "            try:\n",
    "                weight = idf[idf['article_id'] == str(doc_id)]['idf'].values[0]\n",
    "            except Exception as e:\n",
    "                weight = 0\n",
    "            user_vector[i] = doc_dict[doc_id] * weight\n",
    "\n",
    "        user_vector = np.median(user_vector, axis=0)\n",
    "    else:\n",
    "        raise ValueError('Invalid method:', method)\n",
    "\n",
    "    return user_vector\n"
   ]
  },
  {
   "cell_type": "code",
   "execution_count": 324,
   "id": "4f73b2e5",
   "metadata": {},
   "outputs": [],
   "source": [
    "def evaluate_method(method, doc_dict=None, idf=None):\n",
    "    if method == 'idf':\n",
    "        if doc_dict is None or idf is None:\n",
    "            raise ValueError('doc_dict and idf arguments are required for the idf method')\n",
    "        user_embeddings = pd.DataFrame([get_user_embedding(x, method, doc_dict=doc_dict, idf=idf) for x in users['articles']])\n",
    "    else:\n",
    "        user_embeddings = pd.DataFrame([get_user_embedding(x, method, doc_dict=doc_dict) for x in users['articles']])\n",
    "    \n",
    "    user_embeddings.columns = [f'topic_{i}' for i in range(N_topic)]\n",
    "    user_embeddings['uid'] = users['uid'].values\n",
    "    user_embeddings = user_embeddings[['uid']+[f'topic_{i}' for i in range(N_topic)]]\n",
    "    \n",
    "    X = pd.merge(user_embeddings, target, 'left')\n",
    "    X_train, X_test, y_train, y_test = train_test_split(X[['topic_{}'.format(i) for i in range(N_topic)]], X['churn'], random_state=0)\n",
    "    \n",
    "    logreg = LogisticRegression()\n",
    "    logreg.fit(X_train, y_train)\n",
    "    preds = logreg.predict_proba(X_test)[:, 1]\n",
    "    \n",
    "    precision, recall, thresholds = precision_recall_curve(y_test, preds)\n",
    "    fscore = (2 * precision * recall) / (precision + recall)\n",
    "    ix = np.argmax(fscore)\n",
    "    f_score = fscore[ix]\n",
    "    precision = precision[ix]\n",
    "    recall = recall[ix]\n",
    "    best_threshold = thresholds[ix]\n",
    "    roc_auc = roc_auc_score(y_test, preds)\n",
    "    \n",
    "    result = pd.DataFrame({\n",
    "        'method': method,\n",
    "        'roc_auc': roc_auc,\n",
    "        'precision': precision,\n",
    "        'recall': recall,\n",
    "        'f_score': f_score,\n",
    "        'threshold': best_threshold\n",
    "    }, index=[0])\n",
    "    \n",
    "    return result\n"
   ]
  },
  {
   "cell_type": "code",
   "execution_count": 325,
   "id": "33c747ae",
   "metadata": {},
   "outputs": [
    {
     "data": {
      "text/html": [
       "<style type=\"text/css\">\n",
       "#T_86416 caption {\n",
       "  color: black;\n",
       "  font-size: 16px;\n",
       "}\n",
       "#T_86416 th {\n",
       "  background-color: #f2f2f2;\n",
       "  color: black;\n",
       "}\n",
       "#T_86416 tr:nth-child(odd) {\n",
       "  background-color: #f9f9f9;\n",
       "}\n",
       "#T_86416 tr:hover {\n",
       "  background-color: #f5f5f5;\n",
       "}\n",
       "#T_86416 th:hover {\n",
       "  background-color: white;\n",
       "}\n",
       "</style>\n",
       "<table id=\"T_86416\">\n",
       "  <caption>Сводная таблица результатов</caption>\n",
       "  <thead>\n",
       "    <tr>\n",
       "      <th class=\"blank level0\" >&nbsp;</th>\n",
       "      <th id=\"T_86416_level0_col0\" class=\"col_heading level0 col0\" >method</th>\n",
       "      <th id=\"T_86416_level0_col1\" class=\"col_heading level0 col1\" >roc_auc</th>\n",
       "      <th id=\"T_86416_level0_col2\" class=\"col_heading level0 col2\" >precision</th>\n",
       "      <th id=\"T_86416_level0_col3\" class=\"col_heading level0 col3\" >recall</th>\n",
       "      <th id=\"T_86416_level0_col4\" class=\"col_heading level0 col4\" >f_score</th>\n",
       "      <th id=\"T_86416_level0_col5\" class=\"col_heading level0 col5\" >threshold</th>\n",
       "    </tr>\n",
       "  </thead>\n",
       "  <tbody>\n",
       "    <tr>\n",
       "      <th id=\"T_86416_level0_row0\" class=\"row_heading level0 row0\" >0</th>\n",
       "      <td id=\"T_86416_row0_col0\" class=\"data row0 col0\" >mean</td>\n",
       "      <td id=\"T_86416_row0_col1\" class=\"data row0 col1\" >0.9459</td>\n",
       "      <td id=\"T_86416_row0_col2\" class=\"data row0 col2\" >0.6579</td>\n",
       "      <td id=\"T_86416_row0_col3\" class=\"data row0 col3\" >0.7143</td>\n",
       "      <td id=\"T_86416_row0_col4\" class=\"data row0 col4\" >0.6849</td>\n",
       "      <td id=\"T_86416_row0_col5\" class=\"data row0 col5\" >0.252520</td>\n",
       "    </tr>\n",
       "    <tr>\n",
       "      <th id=\"T_86416_level0_row1\" class=\"row_heading level0 row1\" >1</th>\n",
       "      <td id=\"T_86416_row1_col0\" class=\"data row1 col0\" >median</td>\n",
       "      <td id=\"T_86416_row1_col1\" class=\"data row1 col1\" >0.9684</td>\n",
       "      <td id=\"T_86416_row1_col2\" class=\"data row1 col2\" >0.7668</td>\n",
       "      <td id=\"T_86416_row1_col3\" class=\"data row1 col3\" >0.7918</td>\n",
       "      <td id=\"T_86416_row1_col4\" class=\"data row1 col4\" >0.7791</td>\n",
       "      <td id=\"T_86416_row1_col5\" class=\"data row1 col5\" >0.275834</td>\n",
       "    </tr>\n",
       "    <tr>\n",
       "      <th id=\"T_86416_level0_row2\" class=\"row_heading level0 row2\" >2</th>\n",
       "      <td id=\"T_86416_row2_col0\" class=\"data row2 col0\" >max</td>\n",
       "      <td id=\"T_86416_row2_col1\" class=\"data row2 col1\" >0.9743</td>\n",
       "      <td id=\"T_86416_row2_col2\" class=\"data row2 col2\" >0.7289</td>\n",
       "      <td id=\"T_86416_row2_col3\" class=\"data row2 col3\" >0.8449</td>\n",
       "      <td id=\"T_86416_row2_col4\" class=\"data row2 col4\" >0.7826</td>\n",
       "      <td id=\"T_86416_row2_col5\" class=\"data row2 col5\" >0.321221</td>\n",
       "    </tr>\n",
       "    <tr>\n",
       "      <th id=\"T_86416_level0_row3\" class=\"row_heading level0 row3\" >3</th>\n",
       "      <td id=\"T_86416_row3_col0\" class=\"data row3 col0\" >idf</td>\n",
       "      <td id=\"T_86416_row3_col1\" class=\"data row3 col1\" >0.9870</td>\n",
       "      <td id=\"T_86416_row3_col2\" class=\"data row3 col2\" >0.8231</td>\n",
       "      <td id=\"T_86416_row3_col3\" class=\"data row3 col3\" >0.8735</td>\n",
       "      <td id=\"T_86416_row3_col4\" class=\"data row3 col4\" >0.8475</td>\n",
       "      <td id=\"T_86416_row3_col5\" class=\"data row3 col5\" >0.360540</td>\n",
       "    </tr>\n",
       "  </tbody>\n",
       "</table>\n"
      ],
      "text/plain": [
       "<pandas.io.formats.style.Styler at 0x7fedb2f8a100>"
      ]
     },
     "metadata": {},
     "output_type": "display_data"
    }
   ],
   "source": [
    "methods = ['mean', 'median', 'max', 'idf']\n",
    "results = []\n",
    "for method in methods:\n",
    "    result = evaluate_method(method, doc_dict=doc_dict, idf=idf)\n",
    "    results.append(result)\n",
    "\n",
    "df_results = pd.concat(results, ignore_index=True)\n",
    "#print(df_results)\n",
    "styled_table = df_results.style.format({\n",
    "    'roc_auc': '{:.4f}',\n",
    "    'precision': '{:.4f}',\n",
    "    'recall': '{:.4f}',\n",
    "    'f_score': '{:.4f}',\n",
    "    'best_threshold': '{:.4f}'\n",
    "}).set_caption('Сводная таблица результатов').set_table_styles([{\n",
    "    'selector': 'caption',\n",
    "    'props': [\n",
    "        ('color', 'black'),\n",
    "        ('font-size', '16px')\n",
    "    ]\n",
    "}, {\n",
    "    'selector': 'th',\n",
    "    'props': [\n",
    "        ('background-color', '#f2f2f2'),\n",
    "        ('color', 'black')\n",
    "    ]\n",
    "}, {\n",
    "    'selector': 'tr:nth-child(odd)',\n",
    "    'props': [\n",
    "        ('background-color', '#f9f9f9')\n",
    "    ]\n",
    "}, {\n",
    "    'selector': 'tr:hover',\n",
    "    'props': [\n",
    "        ('background-color', '#f5f5f5')\n",
    "    ]\n",
    "}, {\n",
    "    'selector': 'th:hover',\n",
    "    'props': [\n",
    "        ('background-color', 'white')\n",
    "    ]\n",
    "}])\n",
    "\n",
    "display(styled_table)\n"
   ]
  },
  {
   "cell_type": "markdown",
   "id": "13ba5210",
   "metadata": {},
   "source": [
    "## Выводы"
   ]
  },
  {
   "cell_type": "markdown",
   "id": "bd086d53",
   "metadata": {},
   "source": [
    "Метод IDF учитывает важность каждой статьи в истории чтения пользователя, что, по-видимому, является хорошим индикатором. Медианный и максимальный также работают хорошо, но их показатели уступают IDF."
   ]
  }
 ],
 "metadata": {
  "kernelspec": {
   "display_name": "Python 3 (ipykernel)",
   "language": "python",
   "name": "python3"
  },
  "language_info": {
   "codemirror_mode": {
    "name": "ipython",
    "version": 3
   },
   "file_extension": ".py",
   "mimetype": "text/x-python",
   "name": "python",
   "nbconvert_exporter": "python",
   "pygments_lexer": "ipython3",
   "version": "3.9.13"
  }
 },
 "nbformat": 4,
 "nbformat_minor": 5
}
