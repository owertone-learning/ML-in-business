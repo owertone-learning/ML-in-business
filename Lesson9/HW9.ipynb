{
 "cells": [
  {
   "cell_type": "code",
   "execution_count": null,
   "id": "2ea41da9",
   "metadata": {},
   "outputs": [],
   "source": [
    "!pip install dill"
   ]
  },
  {
   "cell_type": "code",
   "execution_count": null,
   "id": "7a89c716",
   "metadata": {},
   "outputs": [],
   "source": [
    "import pandas as pd\n",
    "import numpy as np\n",
    "import dill\n",
    "from sklearn.model_selection import cross_val_score, train_test_split\n",
    "from sklearn.base import BaseEstimator, TransformerMixin\n",
    "from sklearn.linear_model import LogisticRegression\n",
    "from sklearn.metrics import confusion_matrix,accuracy_score,classification_report\n",
    "from sklearn.metrics import roc_auc_score,roc_curve\n",
    "from sklearn.metrics import f1_score\n",
    "#working with text\n",
    "from sklearn.feature_extraction.text import TfidfVectorizer\n",
    "#normalizing data\n",
    "from sklearn.preprocessing import StandardScaler\n",
    "#pipeline\n",
    "from sklearn.pipeline import Pipeline, FeatureUnion, make_pipeline\n",
    "from sklearn.metrics import precision_score,recall_score\n",
    "#imputer\n",
    "from sklearn.impute import SimpleImputer\n",
    "import sklearn.datasets"
   ]
  },
  {
   "cell_type": "code",
   "execution_count": null,
   "id": "bb39a2f8",
   "metadata": {},
   "outputs": [],
   "source": [
    "!wget -O train.csv \"https://drive.google.com/uc?id=1oPtTtVbkSEdiNwjcSHeEkv_C9g0yfLVO&export=download\""
   ]
  },
  {
   "cell_type": "code",
   "execution_count": null,
   "id": "eb1de15c",
   "metadata": {},
   "outputs": [],
   "source": [
    "df = pd.read_csv('train.csv', encoding='utf-8').fillna(' ').sample(frac=1)\n",
    "df.head(3)"
   ]
  },
  {
   "cell_type": "code",
   "execution_count": null,
   "id": "1bd445cd",
   "metadata": {},
   "outputs": [],
   "source": [
    "class_names = ['toxic', 'severe_toxic', 'obscene', 'threat', 'insult', 'identity_hate']"
   ]
  },
  {
   "cell_type": "code",
   "execution_count": null,
   "id": "d2554009",
   "metadata": {},
   "outputs": [],
   "source": [
    "df['y'] = df[class_names].max(axis=1).values\n",
    "df['y'].value_counts()"
   ]
  },
  {
   "cell_type": "code",
   "execution_count": null,
   "id": "91f43f97",
   "metadata": {},
   "outputs": [],
   "source": [
    "from google.colab import drive\n",
    "drive.mount('/content/drive')"
   ]
  },
  {
   "cell_type": "code",
   "execution_count": null,
   "id": "0cd19ea8",
   "metadata": {},
   "outputs": [],
   "source": [
    "X_train, X_test, y_train, y_test = train_test_split(df, \n",
    "                                                    df['toxic'], test_size=0.33, random_state=42)\n",
    "#save test\n",
    "X_test.to_csv(\"/content/drive/MyDrive/X_test.csv\", index=None)\n",
    "y_test.to_csv(\"/content/drive/MyDrive/y_test.csv\", index=None)\n",
    "#save train\n",
    "X_train.to_csv(\"/content/drive/MyDrive/X_train.csv\", index=None)\n",
    "y_train.to_csv(\"/content/drive/MyDrive/y_train.csv\", index=None)"
   ]
  },
  {
   "cell_type": "code",
   "execution_count": null,
   "id": "2faffea2",
   "metadata": {},
   "outputs": [],
   "source": [
    "features = ['id', 'comment_text', 'severe_toxic', 'obscene', 'threat', 'insult', 'identity_hate']\n",
    "target = 'toxic'"
   ]
  },
  {
   "cell_type": "code",
   "execution_count": null,
   "id": "934305c9",
   "metadata": {},
   "outputs": [],
   "source": [
    "class TextImputer(BaseEstimator, TransformerMixin):\n",
    "    def __init__(self, col, default_text=''):\n",
    "        self.col = col\n",
    "        self.default_text = default_text\n",
    "        \n",
    "    def fit(self, X, y=None):\n",
    "        return self\n",
    "    \n",
    "    def transform(self, X, y=None):\n",
    "        X[self.col] = X[self.col].fillna(self.default_text)\n",
    "        return X\n",
    "\n",
    "class ColumnSelector(BaseEstimator, TransformerMixin):\n",
    "    def __init__(self, key):\n",
    "        self.key = key\n",
    "        \n",
    "    def fit(self, X, y=None):\n",
    "        return self\n",
    "    \n",
    "    def transform(self, X):\n",
    "        return X[self.key]"
   ]
  },
  {
   "cell_type": "code",
   "execution_count": null,
   "id": "e2f67d8a",
   "metadata": {},
   "outputs": [],
   "source": [
    "# объединяем pipeline для текста\n",
    "text_pipeline = Pipeline([\n",
    "                ('imputer', TextImputer('comment_text', '')),\n",
    "                ('selector', ColumnSelector(key='comment_text')),\n",
    "                ('tfidf', TfidfVectorizer(max_df=0.9, min_df=10))\n",
    "            ])\n",
    "\n",
    "# создаем pipeline для всех признаков\n",
    "features = FeatureUnion([('text_pipeline', text_pipeline)])\n",
    "\n",
    "# объединяем pipeline для признаков и целевой переменной\n",
    "pipeline = Pipeline([\n",
    "                ('features', features),\n",
    "                ('classifier', LogisticRegression())\n",
    "            ])\n",
    "pipeline.fit(X_train, y_train)"
   ]
  },
  {
   "cell_type": "code",
   "execution_count": null,
   "id": "56076d71",
   "metadata": {},
   "outputs": [],
   "source": [
    "pipeline.steps"
   ]
  },
  {
   "cell_type": "code",
   "execution_count": null,
   "id": "c21c7f78",
   "metadata": {},
   "outputs": [],
   "source": [
    "# Сохраняем модель в файл\n",
    "with open('/content/drive/MyDrive/logreg_pipeline.dill', 'wb') as f:\n",
    "    dill.dump(pipeline, f)"
   ]
  },
  {
   "cell_type": "markdown",
   "id": "2987786f",
   "metadata": {},
   "source": [
    "# Проверка работоспособности и качества пайплайна"
   ]
  },
  {
   "cell_type": "code",
   "execution_count": null,
   "id": "505af55b",
   "metadata": {},
   "outputs": [],
   "source": [
    "dill._dill._reverse_typemap['ClassType'] = type"
   ]
  },
  {
   "cell_type": "code",
   "execution_count": null,
   "id": "97778be6",
   "metadata": {},
   "outputs": [],
   "source": [
    "X_test = pd.read_csv(\"/content/drive/MyDrive/X_test.csv\")\n",
    "y_test = pd.read_csv(\"/content/drive/MyDrive/y_test.csv\")"
   ]
  },
  {
   "cell_type": "code",
   "execution_count": null,
   "id": "81ea161f",
   "metadata": {},
   "outputs": [],
   "source": [
    "with open('/content/drive/MyDrive/logreg_pipeline.dill', 'rb') as in_strm:\n",
    "    pipeline = dill.load(in_strm)"
   ]
  },
  {
   "cell_type": "code",
   "execution_count": null,
   "id": "a51787b2",
   "metadata": {},
   "outputs": [],
   "source": [
    "predictions = pipeline.predict_proba(X_test)[:, 1]\n",
    "pd.DataFrame({'preds': predictions}).to_csv(\"test_predictions.csv\", index=None)"
   ]
  },
  {
   "cell_type": "code",
   "execution_count": null,
   "id": "e146aefd",
   "metadata": {},
   "outputs": [],
   "source": [
    "roc_auc_score(y_test, predictions)"
   ]
  }
 ],
 "metadata": {
  "kernelspec": {
   "display_name": "Python 3 (ipykernel)",
   "language": "python",
   "name": "python3"
  },
  "language_info": {
   "codemirror_mode": {
    "name": "ipython",
    "version": 3
   },
   "file_extension": ".py",
   "mimetype": "text/x-python",
   "name": "python",
   "nbconvert_exporter": "python",
   "pygments_lexer": "ipython3",
   "version": "3.9.13"
  }
 },
 "nbformat": 4,
 "nbformat_minor": 5
}
