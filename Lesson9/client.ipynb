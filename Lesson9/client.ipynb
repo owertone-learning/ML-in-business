{
 "cells": [
  {
   "cell_type": "code",
   "execution_count": null,
   "id": "10addc58",
   "metadata": {},
   "outputs": [],
   "source": [
    "from google.colab import drive\n",
    "drive.mount('/content/drive')"
   ]
  },
  {
   "cell_type": "code",
   "execution_count": null,
   "id": "b048fdd1",
   "metadata": {},
   "outputs": [],
   "source": [
    "import requests\n",
    "import json"
   ]
  },
  {
   "cell_type": "code",
   "execution_count": null,
   "id": "a04efb1c",
   "metadata": {},
   "outputs": [],
   "source": [
    "# Задаём данные для отправки\n",
    "data = \"you are so stupid\""
   ]
  },
  {
   "cell_type": "code",
   "execution_count": null,
   "id": "82e6519c",
   "metadata": {},
   "outputs": [],
   "source": [
    "# формируем запрос\n",
    "def send_json(x):\n",
    "    comment = x\n",
    "    \n",
    "    body = {\n",
    "        \"text\": comment\n",
    "    }\n",
    "    myurl = 'http://bdfb-34-172-96-108.ngrok-free.app' + '/predict'\n",
    "    headers = {'content-type': 'application/json; charset=utf-8'}\n",
    "    response = requests.post(myurl, json=body, headers=headers)\n",
    "    return response.json()\n",
    "\n",
    "# обращение к серверу с запросом из одного набора (его построили руками выше - data)\n",
    "response = send_json(data)\n",
    "print('предсказание', response)"
   ]
  },
  {
   "cell_type": "code",
   "execution_count": null,
   "id": "b5f53a72",
   "metadata": {},
   "outputs": [],
   "source": [
    "# еще один запрос\n",
    "data = {\"text\": \"you are so clever\"}\n",
    "response = requests.post(\"http://bdfb-34-172-96-108.ngrok-free.app/predict\", json=data)\n",
    "print(response.json())"
   ]
  }
 ],
 "metadata": {
  "kernelspec": {
   "display_name": "Python 3 (ipykernel)",
   "language": "python",
   "name": "python3"
  },
  "language_info": {
   "codemirror_mode": {
    "name": "ipython",
    "version": 3
   },
   "file_extension": ".py",
   "mimetype": "text/x-python",
   "name": "python",
   "nbconvert_exporter": "python",
   "pygments_lexer": "ipython3",
   "version": "3.9.13"
  }
 },
 "nbformat": 4,
 "nbformat_minor": 5
}
