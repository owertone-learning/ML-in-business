{
 "cells": [
  {
   "cell_type": "code",
   "execution_count": null,
   "id": "3592a9f2",
   "metadata": {},
   "outputs": [],
   "source": [
    "!pip3 install flask-ngrok\n",
    "!pip install dill\n",
    "import dill\n",
    "import pandas as pd\n",
    "import numpy as np"
   ]
  },
  {
   "cell_type": "code",
   "execution_count": null,
   "id": "4dd661bc",
   "metadata": {},
   "outputs": [],
   "source": [
    "from google.colab import drive\n",
    "drive.mount('/content/drive')\n",
    "\n",
    "# Загружаем обученные модели\n",
    "with open(\"/content/drive/My Drive/logreg_pipeline.dill\", \"rb\") as f:\n",
    "    pipeline = dill.load(f)\n",
    "\n",
    "# Загружаем датасет\n",
    "df = pd.read_csv('/content/drive/My Drive/train.csv')"
   ]
  },
  {
   "cell_type": "code",
   "execution_count": null,
   "id": "792fe222",
   "metadata": {},
   "outputs": [],
   "source": [
    "from flask_ngrok import run_with_ngrok  # импортируем run_with_ngrok для работы с ngrok\n",
    "from flask import Flask, request, jsonify\n",
    "import pandas as pd"
   ]
  },
  {
   "cell_type": "code",
   "execution_count": null,
   "id": "ab5a8369",
   "metadata": {},
   "outputs": [],
   "source": [
    "!wget https://bin.equinox.io/c/4VmDzA7iaHb/ngrok-stable-linux-amd64.tgz\n",
    "!tar -xvf /content/ngrok-stable-linux-amd64.tgz\n",
    "!./ngrok authtoken 2P9BFWUgU9oxs7G3oilJVYriN93_6VtiGedoctUkoBcuZQvE\n",
    "!./ngrok http 80"
   ]
  },
  {
   "cell_type": "code",
   "execution_count": null,
   "id": "eccfe4c9",
   "metadata": {},
   "outputs": [],
   "source": [
    "# Создаем Flask приложение\n",
    "app = Flask(__name__)\n",
    "run_with_ngrok(app)  # используем run_with_ngrok для проксирования нашего Flask-приложения через ngrok\n",
    "\n",
    "@app.route('/', methods=['GET'])\n",
    "def general():\n",
    "    return 'Welcome to the prediction process.'\n",
    "\n",
    "@app.route('/predict', methods=['POST'])\n",
    "def predict():\n",
    "    # Получаем данные из JSON запроса\n",
    "    data = request.json\n",
    "    input_text = data['text']\n",
    "\n",
    "    # Применяем обученную модель к входным данным\n",
    "    predictions = pipeline.predict_proba(pd.DataFrame({'comment_text': [input_text]}))\n",
    "\n",
    "    # Создаем ответ в формате JSON\n",
    "    response = {\n",
    "        'toxic': predictions[0, 0],\n",
    "        #'severe_toxic': predictions[0, 1],\n",
    "        #'obscene': predictions[0, 2],\n",
    "        #'threat': predictions[0, 3],\n",
    "        #'insult': predictions[0, 4],\n",
    "        #'identity_hate': predictions[0, 5]\n",
    "    }\n",
    "\n",
    "    return jsonify(response)\n",
    "\n",
    "if __name__ == '__main__':\n",
    "    app.run()  \n"
   ]
  }
 ],
 "metadata": {
  "kernelspec": {
   "display_name": "Python 3 (ipykernel)",
   "language": "python",
   "name": "python3"
  },
  "language_info": {
   "codemirror_mode": {
    "name": "ipython",
    "version": 3
   },
   "file_extension": ".py",
   "mimetype": "text/x-python",
   "name": "python",
   "nbconvert_exporter": "python",
   "pygments_lexer": "ipython3",
   "version": "3.9.13"
  }
 },
 "nbformat": 4,
 "nbformat_minor": 5
}
